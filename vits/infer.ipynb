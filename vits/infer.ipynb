{
 "cells": [
  {
   "cell_type": "code",
   "execution_count": null,
   "metadata": {},
   "outputs": [],
   "source": [
    "import IPython.display as ipd\n",
    "import torch\n",
    "import commons\n",
    "import utils\n",
    "from models import SynthesizerTrn\n",
    "from text.symbols import symbols\n",
    "from text import text_to_sequence\n",
    "from scipy.io.wavfile import write\n",
    "\n",
    "class vits():\n",
    "    def __init__(self, checkpoint_path, config_path):\n",
    "        self.hps = utils.get_hparams_from_file(config_path)\n",
    "        self.spk_count = self.hps.data.n_speakers\n",
    "        self.net_g = SynthesizerTrn(\n",
    "            len(symbols),\n",
    "            self.hps.data.filter_length // 2 + 1,\n",
    "            self.hps.train.segment_size // self.hps.data.hop_length,\n",
    "            n_speakers=self.hps.data.n_speakers,\n",
    "            **self.hps.model).cuda()\n",
    "        _ = self.net_g.eval()\n",
    "        _ = utils.load_checkpoint(checkpoint_path, self.net_g, None)\n",
    "\n",
    "    def get_text(self, text, hps):\n",
    "        text_norm = text_to_sequence(text, hps.data.text_cleaners)\n",
    "        if hps.data.add_blank:\n",
    "            text_norm = commons.intersperse(text_norm, 0)\n",
    "        text_norm = torch.LongTensor(text_norm)\n",
    "        return text_norm\n",
    "\n",
    "    def infer(self, text, spk_id=0):\n",
    "        ipd.clear_output()\n",
    "        stn_tst = self.get_text(text, self.hps)\n",
    "        with torch.no_grad():\n",
    "            x_tst = stn_tst.cuda().unsqueeze(0)\n",
    "            x_tst_lengths = torch.LongTensor([stn_tst.size(0)]).cuda()\n",
    "            sid = torch.LongTensor([spk_id]).cuda()\n",
    "            audio = self.net_g.infer(x_tst, x_tst_lengths, sid=sid, noise_scale=.667, noise_scale_w=0.8, length_scale=1)[0][0,0].data.cpu().float().numpy()\n",
    "        write(f'infer/test.wav', self.hps.data.sampling_rate, audio)\n",
    "        ipd.display(ipd.Audio(audio, rate=self.hps.data.sampling_rate, normalize=False))"
   ]
  },
  {
   "cell_type": "code",
   "execution_count": null,
   "metadata": {},
   "outputs": [],
   "source": [
    "tts = vits('path/to/G_XXXX.pth', 'path/to/config.json')"
   ]
  },
  {
   "cell_type": "code",
   "execution_count": null,
   "metadata": {},
   "outputs": [],
   "source": [
    "tts.infer('학습은 잘 마치셨나요? 좋은 결과가 있길 바래요.', 0)"
   ]
  }
 ],
 "metadata": {
  "language_info": {
   "name": "python"
  },
  "orig_nbformat": 4
 },
 "nbformat": 4,
 "nbformat_minor": 2
}
